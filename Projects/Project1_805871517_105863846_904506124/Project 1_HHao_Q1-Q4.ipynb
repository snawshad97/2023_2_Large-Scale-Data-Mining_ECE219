{
 "cells": [
  {
   "cell_type": "code",
   "execution_count": 1,
   "id": "95c58e5a",
   "metadata": {},
   "outputs": [],
   "source": [
    "#Installing Modules \n",
    "import numpy as np\n",
    "import pandas as pd\n",
    "import matplotlib.pyplot as plt\n",
    "import random\n",
    "import time\n",
    "import collections\n",
    "import re\n",
    "import math\n",
    "import string\n",
    "from tqdm import tqdm, trange\n",
    "from statistics import mean\n",
    "import nltk\n",
    "from nltk.stem import WordNetLemmatizer\n",
    "from nltk.stem import PorterStemmer\n",
    "from nltk import pos_tag, word_tokenize, sent_tokenize\n",
    "from nltk.corpus import wordnet\n",
    "from sklearn.model_selection import train_test_split \n",
    "from sklearn.feature_extraction.text import CountVectorizer, TfidfTransformer\n",
    "from sklearn.multiclass import OneVsOneClassifier, OneVsRestClassifier\n",
    "from sklearn.naive_bayes import GaussianNB\n",
    "from sklearn.linear_model import LogisticRegression\n",
    "from sklearn.pipeline import Pipeline\n",
    "from sklearn.model_selection import GridSearchCV\n",
    "from sklearn.svm import SVC, LinearSVC\n",
    "from sklearn.utils.extmath import randomized_svd\n",
    "from sklearn import metrics\n",
    "from sklearn.metrics import confusion_matrix, ConfusionMatrixDisplay\n",
    "from sklearn.metrics import accuracy_score, recall_score, precision_score, f1_score, roc_curve, auc\n",
    "from sklearn import svm\n",
    "from sklearn.decomposition import NMF,TruncatedSVD\n",
    "import pickle\n"
   ]
  },
  {
   "cell_type": "markdown",
   "id": "375bc071",
   "metadata": {},
   "source": [
    "# Question 1"
   ]
  },
  {
   "cell_type": "code",
   "execution_count": 2,
   "id": "2e58d9bc",
   "metadata": {},
   "outputs": [
    {
     "data": {
      "text/html": [
       "<div>\n",
       "<style scoped>\n",
       "    .dataframe tbody tr th:only-of-type {\n",
       "        vertical-align: middle;\n",
       "    }\n",
       "\n",
       "    .dataframe tbody tr th {\n",
       "        vertical-align: top;\n",
       "    }\n",
       "\n",
       "    .dataframe thead th {\n",
       "        text-align: right;\n",
       "    }\n",
       "</style>\n",
       "<table border=\"1\" class=\"dataframe\">\n",
       "  <thead>\n",
       "    <tr style=\"text-align: right;\">\n",
       "      <th></th>\n",
       "      <th>full_text</th>\n",
       "      <th>summary</th>\n",
       "      <th>keywords</th>\n",
       "      <th>publish_date</th>\n",
       "      <th>authors</th>\n",
       "      <th>url</th>\n",
       "      <th>leaf_label</th>\n",
       "      <th>root_label</th>\n",
       "    </tr>\n",
       "  </thead>\n",
       "  <tbody>\n",
       "    <tr>\n",
       "      <th>0</th>\n",
       "      <td>'Pure Hockey, the largest hockey retailer in t...</td>\n",
       "      <td>'Pure Hockey, the largest hockey retailer in t...</td>\n",
       "      <td>['acquire', 'agrees', 'nevada', 'retail', 'hoc...</td>\n",
       "      <td>2022-10-21 17:11:22+00:00</td>\n",
       "      <td>['Ein News']</td>\n",
       "      <td>https://www.einnews.com/pr_news/597148062/pure...</td>\n",
       "      <td>hockey</td>\n",
       "      <td>sports</td>\n",
       "    </tr>\n",
       "    <tr>\n",
       "      <th>1</th>\n",
       "      <td>'HKO Hockey Canada Sponsorship 20221006\\n\\nHoc...</td>\n",
       "      <td>'The tally of Hockey Canada’s sponsorship loss...</td>\n",
       "      <td>['sexual', 'exclusive', 'settlement', 'million...</td>\n",
       "      <td>NaN</td>\n",
       "      <td>['Barbara Shecter']</td>\n",
       "      <td>https://ca.finance.yahoo.com/news/exclusive-ho...</td>\n",
       "      <td>hockey</td>\n",
       "      <td>sports</td>\n",
       "    </tr>\n",
       "    <tr>\n",
       "      <th>2</th>\n",
       "      <td>'Canadian Prime Minister Justin Trudeau said W...</td>\n",
       "      <td>'Canadian Prime Minister Justin Trudeau said W...</td>\n",
       "      <td>['québec', 'surprise', 'trust', 'sexual', 'org...</td>\n",
       "      <td>2022-10-05 00:00:00</td>\n",
       "      <td>['The Athletic Staff']</td>\n",
       "      <td>https://theathletic.com/3659888/2022/10/05/hoc...</td>\n",
       "      <td>hockey</td>\n",
       "      <td>sports</td>\n",
       "    </tr>\n",
       "    <tr>\n",
       "      <th>3</th>\n",
       "      <td>'Hockey Canada paid a crisis communications fi...</td>\n",
       "      <td>'Nicholson says that Hockey Canada did not go ...</td>\n",
       "      <td>['sexual', 'organization', 'million', 'ceo', '...</td>\n",
       "      <td>2022-11-15 00:00:00</td>\n",
       "      <td>['Dan Robson']</td>\n",
       "      <td>https://theathletic.com/3900630/2022/11/15/hoc...</td>\n",
       "      <td>hockey</td>\n",
       "      <td>sports</td>\n",
       "    </tr>\n",
       "    <tr>\n",
       "      <th>4</th>\n",
       "      <td>'The Denver Broncos are looking for a new head...</td>\n",
       "      <td>'The Denver Broncos are looking for a new head...</td>\n",
       "      <td>['beats', 'force', 'season', 'teams', 'anchora...</td>\n",
       "      <td>NaN</td>\n",
       "      <td>['Parker Seibold', 'The Gazette', 'Gazette File']</td>\n",
       "      <td>https://gazette.com/multimedia/photo-air-force...</td>\n",
       "      <td>hockey</td>\n",
       "      <td>sports</td>\n",
       "    </tr>\n",
       "    <tr>\n",
       "      <th>5</th>\n",
       "      <td>'Referee Martin Pronovost wears a Hockey Canad...</td>\n",
       "      <td>'Hockey Canada reached a settlement in May wit...</td>\n",
       "      <td>['situation', 'culture', 'needs', 'sexual', 'i...</td>\n",
       "      <td>NaN</td>\n",
       "      <td>['Sara Civian']</td>\n",
       "      <td>https://bleacherreport.com/articles/10052673-m...</td>\n",
       "      <td>hockey</td>\n",
       "      <td>sports</td>\n",
       "    </tr>\n",
       "    <tr>\n",
       "      <th>6</th>\n",
       "      <td>'Sonny Milano tied it with less than three min...</td>\n",
       "      <td>'Flyers Capitals Hockey Washington Capitals le...</td>\n",
       "      <td>['ovechkins', 'ot', 'goal', 'game', 'philadelp...</td>\n",
       "      <td>2022-11-24 05:26:00+00:00</td>\n",
       "      <td>['News Traffic Weather']</td>\n",
       "      <td>https://wtop.com/washington-capitals/2022/11/a...</td>\n",
       "      <td>hockey</td>\n",
       "      <td>sports</td>\n",
       "    </tr>\n",
       "    <tr>\n",
       "      <th>7</th>\n",
       "      <td>'GRAND FORKS — A hockey stick in pieces used t...</td>\n",
       "      <td>'GRAND FORKS — A hockey stick in pieces used t...</td>\n",
       "      <td>['stick', 'repairs', 'process', 'dakota', 'nor...</td>\n",
       "      <td>2022-11-29 13:33:00</td>\n",
       "      <td>['A South Dakota Native', 'Hunter Joined Forum...</td>\n",
       "      <td>https://www.inforum.com/business/a-broken-hock...</td>\n",
       "      <td>hockey</td>\n",
       "      <td>sports</td>\n",
       "    </tr>\n",
       "    <tr>\n",
       "      <th>8</th>\n",
       "      <td>'Alex Ovechkin tied Gordie Howe for the most g...</td>\n",
       "      <td>'Capitals Red Wings Hockey Detroit Red Wings c...</td>\n",
       "      <td>['ovechkin', 'wings', 'red', 'howes', 'osorio'...</td>\n",
       "      <td>2022-11-04 02:51:00+00:00</td>\n",
       "      <td>['News Traffic Weather']</td>\n",
       "      <td>https://wtop.com/washington-capitals/2022/11/o...</td>\n",
       "      <td>hockey</td>\n",
       "      <td>sports</td>\n",
       "    </tr>\n",
       "    <tr>\n",
       "      <th>9</th>\n",
       "      <td>'Hockey Canada’s members have elected a new bo...</td>\n",
       "      <td>'Hockey Canada’s members have elected a new bo...</td>\n",
       "      <td>['elect', 'sexual', 'organization', 'allegatio...</td>\n",
       "      <td>2022-12-17 00:00:00</td>\n",
       "      <td>['The Athletic Staff']</td>\n",
       "      <td>https://theathletic.com/4011708/2022/12/17/hoc...</td>\n",
       "      <td>hockey</td>\n",
       "      <td>sports</td>\n",
       "    </tr>\n",
       "  </tbody>\n",
       "</table>\n",
       "</div>"
      ],
      "text/plain": [
       "                                           full_text  \\\n",
       "0  'Pure Hockey, the largest hockey retailer in t...   \n",
       "1  'HKO Hockey Canada Sponsorship 20221006\\n\\nHoc...   \n",
       "2  'Canadian Prime Minister Justin Trudeau said W...   \n",
       "3  'Hockey Canada paid a crisis communications fi...   \n",
       "4  'The Denver Broncos are looking for a new head...   \n",
       "5  'Referee Martin Pronovost wears a Hockey Canad...   \n",
       "6  'Sonny Milano tied it with less than three min...   \n",
       "7  'GRAND FORKS — A hockey stick in pieces used t...   \n",
       "8  'Alex Ovechkin tied Gordie Howe for the most g...   \n",
       "9  'Hockey Canada’s members have elected a new bo...   \n",
       "\n",
       "                                             summary  \\\n",
       "0  'Pure Hockey, the largest hockey retailer in t...   \n",
       "1  'The tally of Hockey Canada’s sponsorship loss...   \n",
       "2  'Canadian Prime Minister Justin Trudeau said W...   \n",
       "3  'Nicholson says that Hockey Canada did not go ...   \n",
       "4  'The Denver Broncos are looking for a new head...   \n",
       "5  'Hockey Canada reached a settlement in May wit...   \n",
       "6  'Flyers Capitals Hockey Washington Capitals le...   \n",
       "7  'GRAND FORKS — A hockey stick in pieces used t...   \n",
       "8  'Capitals Red Wings Hockey Detroit Red Wings c...   \n",
       "9  'Hockey Canada’s members have elected a new bo...   \n",
       "\n",
       "                                            keywords  \\\n",
       "0  ['acquire', 'agrees', 'nevada', 'retail', 'hoc...   \n",
       "1  ['sexual', 'exclusive', 'settlement', 'million...   \n",
       "2  ['québec', 'surprise', 'trust', 'sexual', 'org...   \n",
       "3  ['sexual', 'organization', 'million', 'ceo', '...   \n",
       "4  ['beats', 'force', 'season', 'teams', 'anchora...   \n",
       "5  ['situation', 'culture', 'needs', 'sexual', 'i...   \n",
       "6  ['ovechkins', 'ot', 'goal', 'game', 'philadelp...   \n",
       "7  ['stick', 'repairs', 'process', 'dakota', 'nor...   \n",
       "8  ['ovechkin', 'wings', 'red', 'howes', 'osorio'...   \n",
       "9  ['elect', 'sexual', 'organization', 'allegatio...   \n",
       "\n",
       "                publish_date  \\\n",
       "0  2022-10-21 17:11:22+00:00   \n",
       "1                        NaN   \n",
       "2        2022-10-05 00:00:00   \n",
       "3        2022-11-15 00:00:00   \n",
       "4                        NaN   \n",
       "5                        NaN   \n",
       "6  2022-11-24 05:26:00+00:00   \n",
       "7        2022-11-29 13:33:00   \n",
       "8  2022-11-04 02:51:00+00:00   \n",
       "9        2022-12-17 00:00:00   \n",
       "\n",
       "                                             authors  \\\n",
       "0                                       ['Ein News']   \n",
       "1                                ['Barbara Shecter']   \n",
       "2                             ['The Athletic Staff']   \n",
       "3                                     ['Dan Robson']   \n",
       "4  ['Parker Seibold', 'The Gazette', 'Gazette File']   \n",
       "5                                    ['Sara Civian']   \n",
       "6                           ['News Traffic Weather']   \n",
       "7  ['A South Dakota Native', 'Hunter Joined Forum...   \n",
       "8                           ['News Traffic Weather']   \n",
       "9                             ['The Athletic Staff']   \n",
       "\n",
       "                                                 url leaf_label root_label  \n",
       "0  https://www.einnews.com/pr_news/597148062/pure...     hockey     sports  \n",
       "1  https://ca.finance.yahoo.com/news/exclusive-ho...     hockey     sports  \n",
       "2  https://theathletic.com/3659888/2022/10/05/hoc...     hockey     sports  \n",
       "3  https://theathletic.com/3900630/2022/11/15/hoc...     hockey     sports  \n",
       "4  https://gazette.com/multimedia/photo-air-force...     hockey     sports  \n",
       "5  https://bleacherreport.com/articles/10052673-m...     hockey     sports  \n",
       "6  https://wtop.com/washington-capitals/2022/11/a...     hockey     sports  \n",
       "7  https://www.inforum.com/business/a-broken-hock...     hockey     sports  \n",
       "8  https://wtop.com/washington-capitals/2022/11/o...     hockey     sports  \n",
       "9  https://theathletic.com/4011708/2022/12/17/hoc...     hockey     sports  "
      ]
     },
     "execution_count": 2,
     "metadata": {},
     "output_type": "execute_result"
    }
   ],
   "source": [
    "#load in dataset\n",
    "df = pd.read_csv('C:/Users/Sunny/Downloads/Project1-Classification.csv')\n",
    "df.head(10)"
   ]
  },
  {
   "cell_type": "code",
   "execution_count": 3,
   "id": "d6f76fd9",
   "metadata": {},
   "outputs": [
    {
     "data": {
      "text/plain": [
       "(3150, 8)"
      ]
     },
     "execution_count": 3,
     "metadata": {},
     "output_type": "execute_result"
    }
   ],
   "source": [
    "#How many rows (samples) and columns (features) are present in the dataset?\n",
    "df.shape"
   ]
  },
  {
   "cell_type": "code",
   "execution_count": 4,
   "id": "4e96028f",
   "metadata": {},
   "outputs": [
    {
     "data": {
      "text/plain": [
       "Text(0.5, 1.0, 'The total number of alpha-numeric characters per data point (row) in the feature full_text')"
      ]
     },
     "execution_count": 4,
     "metadata": {},
     "output_type": "execute_result"
    },
    {
     "data": {
      "image/png": "[encoded data removed]",
      "text/plain": [
       "<Figure size 432x288 with 1 Axes>"
      ]
     },
     "metadata": {
      "needs_background": "light"
     },
     "output_type": "display_data"
    }
   ],
   "source": [
    "'''Histograms: Plot 3 histograms on : (a) The total number of alpha-numeric characters per\n",
    "data point (row) in the feature full text: i.e count on the x-axis and frequency on the y-axis;\n",
    "(b) The column leaf label – class on the x-axis; (c) The column root label – class on the\n",
    "x-axis'''\n",
    "#(a)\n",
    "dataset=df['full_text'].str.split() #split first\n",
    "dataset=df['full_text'].str.len() #find the length\n",
    "dataset.head(10)#summary of the length\n",
    "#plt.hist(dataset,bins=len(set(dataset)))\n",
    "\n",
    "\n",
    "total = dataset.to_numpy()\n",
    "amount, counts = np.unique(total, return_counts=True)\n",
    "plt.bar(amount,counts,edgecolor = 'green')\n",
    "plt.xlabel('count')\n",
    "plt.ylabel('frequency')\n",
    "plt.title('The total number of alpha-numeric characters per data point (row) in the feature full_text')\n"
   ]
  },
  {
   "cell_type": "code",
   "execution_count": 5,
   "id": "4604af71",
   "metadata": {},
   "outputs": [
    {
     "data": {
      "image/png": "[encoded data removed]",
      "text/plain": [
       "<Figure size 432x288 with 1 Axes>"
      ]
     },
     "metadata": {
      "needs_background": "light"
     },
     "output_type": "display_data"
    }
   ],
   "source": [
    "#(b)\n",
    "leaf = df[\"leaf_label\"].value_counts()\n",
    "# print(leaf)\n",
    "plt.hist(df[\"leaf_label\"], bins = len(leaf), rwidth = 0.8)\n",
    "plt.title(\"Leaf lavel on x-axis \")\n",
    "plt.xlabel(\"leaf_label\")\n",
    "plt.ylabel(\"Frequency\")\n",
    "plt.xticks(rotation=80)\n",
    "plt.show()"
   ]
  },
  {
   "cell_type": "code",
   "execution_count": 6,
   "id": "1a46b8f1",
   "metadata": {},
   "outputs": [
    {
     "name": "stdout",
     "output_type": "stream",
     "text": [
      "sports     1750\n",
      "climate    1400\n",
      "Name: root_label, dtype: int64\n"
     ]
    },
    {
     "data": {
      "image/png": "[encoded data removed]",
      "text/plain": [
       "<Figure size 432x288 with 1 Axes>"
      ]
     },
     "metadata": {
      "needs_background": "light"
     },
     "output_type": "display_data"
    }
   ],
   "source": [
    "#(c)\n",
    "label = df[\"root_label\"].value_counts()\n",
    "plt.hist(df[\"root_label\"], bins = len(label),rwidth = 0.9)\n",
    "plt.title(\"class on axis\")\n",
    "plt.xlabel(\"Class\")\n",
    "plt.ylabel(\"Count\")\n",
    "print(label)"
   ]
  },
  {
   "cell_type": "code",
   "execution_count": 7,
   "id": "7572ea8c",
   "metadata": {},
   "outputs": [
    {
     "name": "stdout",
     "output_type": "stream",
     "text": [
      "There are 2520 training samples and 630 test samples.\n"
     ]
    }
   ],
   "source": [
    "########## Question 2\n",
    "import numpy as np\n",
    "import random\n",
    "np.random.seed(42)\n",
    "random.seed(42)\n",
    "from sklearn.model_selection import train_test_split\n",
    "train, test = train_test_split(df[[\"full_text\",\"root_label\"]], test_size=0.2)\n",
    "print(\"There are \" + str(train.shape[0]) + \" training samples and \" + str(test.shape[0]) + \" test samples.\")"
   ]
  },
  {
   "cell_type": "code",
   "execution_count": 10,
   "id": "d2b71c08",
   "metadata": {},
   "outputs": [],
   "source": [
    "########## Question 3\n",
    "#Clean up the data, code from discussion session\n",
    "def clean(text):\n",
    "    text = re.sub(r'^https?:\\/\\/.*[\\r\\n]*', '', text, flags=re.MULTILINE)\n",
    "    texter = re.sub(r\"<br />\", \" \", text)\n",
    "    texter = re.sub(r\"&quot;\", \"\\\"\",texter)\n",
    "    texter = re.sub('&#39;', \"\\\"\", texter)\n",
    "    texter = re.sub('\\n', \" \", texter)\n",
    "    texter = re.sub(' u ',\" you \", texter)\n",
    "    texter = re.sub('`',\"\", texter)\n",
    "    texter = re.sub(' +', ' ', texter)\n",
    "    texter = re.sub(r\"(!)\\1+\", r\"!\", texter)\n",
    "    texter = re.sub(r\"(\\?)\\1+\", r\"?\", texter)\n",
    "    texter = re.sub('&amp;', 'and', texter)\n",
    "    texter = re.sub('\\r', ' ',texter)\n",
    "    clean = re.compile('<.*?>')\n",
    "    texter = texter.encode('ascii', 'ignore').decode('ascii')\n",
    "    texter = re.sub(clean, '', texter)\n",
    "    if texter == \"\":\n",
    "        texter = \"\"\n",
    "    return texter\n",
    "#get ride of the number\n",
    "def remove_numbers(text):\n",
    "    text_nonum = re.sub(r'\\b[0-9]+\\b\\s*', '', text)\n",
    "    clean_text = []\n",
    "    for word in word_tokenize(text):\n",
    "        if (not any(char.isdigit() for char in word)):\n",
    "            clean_text.append(word)\n",
    "    return ' '.join(clean_text)\n",
    "#code from discussion\n",
    "def penn2morphy(penntag):  \n",
    "    morphy_tag = {'NN':'n', 'JJ':'a',\n",
    "                  'VB':'v', 'RB':'r'}\n",
    "    try:\n",
    "        return morphy_tag[penntag[:2]]\n",
    "    except:\n",
    "        return 'n' \n",
    "#data clearning\n",
    "def clean_data(text):  \n",
    "    text = clean(text)\n",
    "    text = remove_numbers(text)\n",
    "    return text\n",
    "#stemming\n",
    "def stem(text):\n",
    "    stemmer = PorterStemmer()\n",
    "    stemmed_words = []\n",
    "    for word in word_tokenize(text):\n",
    "        if (not any(char in word for char in string.punctuation)):\n",
    "            stemmed_words.append(stemmer.stem(word))\n",
    "    return ' '.join(stemmed_words)\n",
    "\n",
    "# try lemmatization\n",
    "def lemmatization(text):\n",
    "    lemmatization = WordNetLemmatizer()\n",
    "\n",
    "    sent_pos_tags = [pos_tag(word_tokenize(sent)) for sent in sent_tokenize(text)]\n",
    "    pos_tags = []\n",
    "    for sentence_tags in sent_pos_tags:\n",
    "        for tags in sentence_tags:\n",
    "            pos_tags.append(tags)\n",
    "    \n",
    "    lemmatized_words = []\n",
    "    lemm_text = [lemmatizer.lemmatize(word, pos = penn2morphy(tag)) for word, tag in pos_tags]\n",
    "    for lemma in lemm_text:\n",
    "        if (not any(char in lemma for char in string.punctuation)):\n",
    "            lemmatized_words.append(lemma.lower())\n",
    "    return ' '.join(lemmatized_words)\n",
    "\n",
    "\n",
    "def preprocessing(text):\n",
    "    text = clean_data(text)\n",
    "    text = remove_numbers(text)\n",
    "    text = lemmatization(text)\n",
    "    return text\n"
   ]
  },
  {
   "cell_type": "code",
   "execution_count": 11,
   "id": "b86c2acf",
   "metadata": {},
   "outputs": [
    {
     "name": "stderr",
     "output_type": "stream",
     "text": [
      "[nltk_data] Downloading package punkt to\n",
      "[nltk_data]     C:\\Users\\Sunny\\AppData\\Roaming\\nltk_data...\n",
      "[nltk_data]   Package punkt is already up-to-date!\n",
      "[nltk_data] Downloading package averaged_perceptron_tagger to\n",
      "[nltk_data]     C:\\Users\\Sunny\\AppData\\Roaming\\nltk_data...\n",
      "[nltk_data]   Package averaged_perceptron_tagger is already up-to-\n",
      "[nltk_data]       date!\n",
      "100%|██████████████████████████████████████████████████████████████████████████████| 2520/2520 [01:17<00:00, 32.36it/s]\n",
      "100%|████████████████████████████████████████████████████████████████████████████████| 630/630 [00:20<00:00, 31.38it/s]\n"
     ]
    }
   ],
   "source": [
    "import pickle\n",
    "import nltk\n",
    "nltk.download('punkt')\n",
    "nltk.download('averaged_perceptron_tagger')\n",
    "tqdm.pandas() # require pandas == 1.3.5 and tqdm > 4.50.1\n",
    "train['clean_data'] = train['full_text'].progress_apply(lambda x:preprocessing(x))\n",
    "test['clean_data'] = test['full_text'].progress_apply(lambda x:preprocessing(x))"
   ]
  },
  {
   "cell_type": "code",
   "execution_count": 12,
   "id": "1c49e469",
   "metadata": {},
   "outputs": [
    {
     "data": {
      "text/html": [
       "<div>\n",
       "<style scoped>\n",
       "    .dataframe tbody tr th:only-of-type {\n",
       "        vertical-align: middle;\n",
       "    }\n",
       "\n",
       "    .dataframe tbody tr th {\n",
       "        vertical-align: top;\n",
       "    }\n",
       "\n",
       "    .dataframe thead th {\n",
       "        text-align: right;\n",
       "    }\n",
       "</style>\n",
       "<table border=\"1\" class=\"dataframe\">\n",
       "  <thead>\n",
       "    <tr style=\"text-align: right;\">\n",
       "      <th></th>\n",
       "      <th>full_text</th>\n",
       "      <th>root_label</th>\n",
       "      <th>clean_data</th>\n",
       "    </tr>\n",
       "  </thead>\n",
       "  <tbody>\n",
       "    <tr>\n",
       "      <th>2310</th>\n",
       "      <td>'As of Sunday night, a lopsided area of low pr...</td>\n",
       "      <td>climate</td>\n",
       "      <td>of sunday night a lopsided area of low pressur...</td>\n",
       "    </tr>\n",
       "    <tr>\n",
       "      <th>2189</th>\n",
       "      <td>'The U.N. children’s agency says some 2 millio...</td>\n",
       "      <td>climate</td>\n",
       "      <td>childrens agency say some million child in are...</td>\n",
       "    </tr>\n",
       "    <tr>\n",
       "      <th>2304</th>\n",
       "      <td>'Wicked winds and heavy rains battered the sta...</td>\n",
       "      <td>climate</td>\n",
       "      <td>wind and heavy rain batter the state of maine ...</td>\n",
       "    </tr>\n",
       "    <tr>\n",
       "      <th>2988</th>\n",
       "      <td>'I live in a community with a homeowners assoc...</td>\n",
       "      <td>climate</td>\n",
       "      <td>i live in a community with a homeowner associa...</td>\n",
       "    </tr>\n",
       "    <tr>\n",
       "      <th>221</th>\n",
       "      <td>'The Special Olympics team took home the hard ...</td>\n",
       "      <td>sports</td>\n",
       "      <td>special olympics team take home the hard fough...</td>\n",
       "    </tr>\n",
       "  </tbody>\n",
       "</table>\n",
       "</div>"
      ],
      "text/plain": [
       "                                              full_text root_label  \\\n",
       "2310  'As of Sunday night, a lopsided area of low pr...    climate   \n",
       "2189  'The U.N. children’s agency says some 2 millio...    climate   \n",
       "2304  'Wicked winds and heavy rains battered the sta...    climate   \n",
       "2988  'I live in a community with a homeowners assoc...    climate   \n",
       "221   'The Special Olympics team took home the hard ...     sports   \n",
       "\n",
       "                                             clean_data  \n",
       "2310  of sunday night a lopsided area of low pressur...  \n",
       "2189  childrens agency say some million child in are...  \n",
       "2304  wind and heavy rain batter the state of maine ...  \n",
       "2988  i live in a community with a homeowner associa...  \n",
       "221   special olympics team take home the hard fough...  "
      ]
     },
     "execution_count": 12,
     "metadata": {},
     "output_type": "execute_result"
    }
   ],
   "source": [
    "train.head()"
   ]
  },
  {
   "cell_type": "code",
   "execution_count": 13,
   "id": "09fdff0f",
   "metadata": {},
   "outputs": [
    {
     "name": "stdout",
     "output_type": "stream",
     "text": [
      "train matrix shape: (2520, 14076)\n",
      "test matrix shape: (630, 14076)\n"
     ]
    }
   ],
   "source": [
    "# count_vect = CountVectorizer()\n",
    "#count_vect = CountVectorizer(stop_words='english')\n",
    "count_vect = CountVectorizer(stop_words=\"english\", min_df=3)\n",
    "tfidf_tranformer = TfidfTransformer(use_idf=True)\n",
    "#get the train matrix\n",
    "train_count_vect = count_vect.fit_transform(train['clean_data'])\n",
    "train_df = tfidf_tranformer.fit_transform(train_count_vect).toarray()\n",
    "#get the test matrix\n",
    "test_count_vect = count_vect.transform(test['clean_data'])\n",
    "test_df = tfidf_tranformer.transform(test_count_vectorizer).toarray()\n",
    "#print out the shape\n",
    "print('train matrix shape':train_df.shape)\n",
    "print('test matrix shape:', test_df.shape)"
   ]
  },
  {
   "cell_type": "code",
   "execution_count": 15,
   "id": "43154241",
   "metadata": {},
   "outputs": [
    {
     "name": "stdout",
     "output_type": "stream",
     "text": [
      "when min_df = 1\n",
      "train matrix shape: (2520, 34769)\n",
      "test matrix shape: (630, 34769)\n",
      "\n",
      "when min_df = 2\n",
      "train matrix shape: (2520, 19362)\n",
      "test matrix shape: (630, 19362)\n",
      "\n",
      "when min_df = 3\n",
      "train matrix shape: (2520, 14076)\n",
      "test matrix shape: (630, 14076)\n",
      "\n",
      "when min_df = 4\n",
      "train matrix shape: (2520, 11330)\n",
      "test matrix shape: (630, 11330)\n",
      "\n"
     ]
    }
   ],
   "source": [
    "#in this part we interested to see how columns changed\n",
    "def affect_min_df(min_df, train, test):\n",
    "    count_vectorizer = CountVectorizer(stop_words=\"english\", min_df=min_df)\n",
    "    tfidf_tranformer = TfidfTransformer(use_idf=True)    \n",
    "    train_count_vectorizer = count_vectorizer.fit_transform(train['clean_data'])\n",
    "    train_df = tfidf_tranformer.fit_transform(train_count_vectorizer).toarray()\n",
    "    \n",
    "    test_count_vectorizer = count_vectorizer.transform(test['clean_data'])\n",
    "    test_df = tfidf_tranformer.transform(test_count_vectorizer).toarray()\n",
    "    \n",
    "    print(f\"when min_df = {min_df}\")\n",
    "    print('train matrix shape:', train_df.shape)\n",
    "    print('test matrix shape:', test_df.shape)\n",
    "    print()\n",
    "    return train, test\n",
    "\n",
    "for i in range(1,5):\n",
    "    affect_min_df(i, train, test)"
   ]
  },
  {
   "cell_type": "code",
   "execution_count": 24,
   "id": "d1bb18e3",
   "metadata": {},
   "outputs": [
    {
     "name": "stderr",
     "output_type": "stream",
     "text": [
      "100%|████████████████████████████████████████████████████████████████████████████████████| 8/8 [00:33<00:00,  4.22s/it]"
     ]
    },
    {
     "name": "stdout",
     "output_type": "stream",
     "text": [
      "[1, 10, 50, 100, 200, 500, 1000, 2000] [0.00656949709556808, 0.15371132292339545, 0.31008091165970547, 0.39812708888845594, 0.5088358207204101, 0.7023408218419535, 0.8761614715567544, 0.999989878709443]\n"
     ]
    },
    {
     "name": "stderr",
     "output_type": "stream",
     "text": [
      "\n"
     ]
    },
    {
     "data": {
      "image/png": "[encoded data removed]",
      "text/plain": [
       "<Figure size 432x288 with 1 Axes>"
      ]
     },
     "metadata": {
      "needs_background": "light"
     },
     "output_type": "display_data"
    }
   ],
   "source": [
    "################Q4\n",
    "#get the list of k\n",
    "k = [1, 10, 50, 100, 200, 500, 1000, 2000]\n",
    "var_ratio = []\n",
    "def k_value(k, svd):#define k and svd\n",
    "    variance = svd.var_ratio_\n",
    "    eigenvalues = np.cumsum(variance)\n",
    "for i in trange(len(k)):\n",
    "    svd = TruncatedSVD(n_components=k[i], random_state=42)\n",
    "    svd.fit(train_df)\n",
    "    plot_figure_for_each_k(k[i], svd)\n",
    "    var_ratio.append(sum(svd.var_ratio_))\n",
    "#get the plot ready\n",
    "plt.title('Explained_variance_ratio with verious k')\n",
    "plt.xlabel(\"Value of k\")\n",
    "plt.ylabel(\"Explained_variance_ratio\")  \n",
    "plt.plot(k, var_ratio, label=\"points\")\n",
    "#plot the Variance ratio of K and print out the value\n",
    "for sk, y in zip(k, var_ratio):\n",
    "      plt.text(sk, y, str(round(y, 2)))\n",
    "print(k,var_ratio)"
   ]
  },
  {
   "cell_type": "code",
   "execution_count": 32,
   "id": "dc3ff0ae",
   "metadata": {},
   "outputs": [
    {
     "name": "stdout",
     "output_type": "stream",
     "text": [
      "MSE Error for LSI is 41.02637078289105\n",
      "MSE Error for NMF is 41.37286730025996\n"
     ]
    }
   ],
   "source": [
    "#########Question 4 part b\n",
    "#Get MSE Error of LSI\n",
    "u,sig,vtran = randomized_svd(train_df,random_state=42,n_components=50) \n",
    "X = np.dot(np.dot(u,np.diag(sig)),vtran) #formula\n",
    "LSI_MSE = np.sqrt(np.sum(np.square(X - train_df)))\n",
    "#Get MSE Error of NMF\n",
    "nmf = NMF(n_components=50, init='random', random_state=42)\n",
    "nmf_train = nmf.fit_transform(train_df)\n",
    "WTH = np.dot(nmf_train, nmf.components_)\n",
    "NMF_MSE = np.sqrt(np.sum(np.square(train_df-WTH)))\n",
    "print(\"MSE Error for LSI is \" + str(LSI_MSE))\n",
    "print(\"MSE Error for NMF is \" + str(NMF_MSE))"
   ]
  },
  {
   "cell_type": "code",
   "execution_count": 46,
   "id": "8d7a2199",
   "metadata": {},
   "outputs": [],
   "source": [
    "#########Question 5"
   ]
  },
  {
   "cell_type": "code",
   "execution_count": null,
   "id": "231ad9f5",
   "metadata": {},
   "outputs": [],
   "source": []
  }
 ],
 "metadata": {
  "kernelspec": {
   "display_name": "Python 3 (ipykernel)",
   "language": "python",
   "name": "python3"
  },
  "language_info": {
   "codemirror_mode": {
    "name": "ipython",
    "version": 3
   },
   "file_extension": ".py",
   "mimetype": "text/x-python",
   "name": "python",
   "nbconvert_exporter": "python",
   "pygments_lexer": "ipython3",
   "version": "3.9.7"
  }
 },
 "nbformat": 4,
 "nbformat_minor": 5
}
