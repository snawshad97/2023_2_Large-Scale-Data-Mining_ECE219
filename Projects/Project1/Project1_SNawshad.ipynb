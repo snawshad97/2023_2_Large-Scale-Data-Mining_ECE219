{
 "cells": [
  {
   "cell_type": "code",
   "execution_count": 17,
   "metadata": {},
   "outputs": [],
   "source": [
    "# Importing and setup\n",
    "import pandas as pd"
   ]
  },
  {
   "cell_type": "code",
   "execution_count": 18,
   "metadata": {},
   "outputs": [
    {
     "name": "stdout",
     "output_type": "stream",
     "text": [
      "There are 3150 samples, and 8 features.\n"
     ]
    }
   ],
   "source": [
    "# Question 1\n",
    "df = pd.read_csv('Project1-Classification.csv')\n",
    "\n",
    "# Overview\n",
    "print(\"There are \" + str(df.shape[0]) + \" samples, and \" + str(df.shape[1]) + \" features.\")\n",
    "\n",
    "# Histograms\n"
   ]
  },
  {
   "cell_type": "code",
   "execution_count": 19,
   "metadata": {},
   "outputs": [
    {
     "data": {
      "text/html": [
       "<div>\n",
       "<style scoped>\n",
       "    .dataframe tbody tr th:only-of-type {\n",
       "        vertical-align: middle;\n",
       "    }\n",
       "\n",
       "    .dataframe tbody tr th {\n",
       "        vertical-align: top;\n",
       "    }\n",
       "\n",
       "    .dataframe thead th {\n",
       "        text-align: right;\n",
       "    }\n",
       "</style>\n",
       "<table border=\"1\" class=\"dataframe\">\n",
       "  <thead>\n",
       "    <tr style=\"text-align: right;\">\n",
       "      <th></th>\n",
       "      <th>full_text</th>\n",
       "      <th>summary</th>\n",
       "      <th>keywords</th>\n",
       "      <th>publish_date</th>\n",
       "      <th>authors</th>\n",
       "      <th>url</th>\n",
       "      <th>leaf_label</th>\n",
       "      <th>root_label</th>\n",
       "    </tr>\n",
       "  </thead>\n",
       "  <tbody>\n",
       "    <tr>\n",
       "      <th>0</th>\n",
       "      <td>'Pure Hockey, the largest hockey retailer in t...</td>\n",
       "      <td>'Pure Hockey, the largest hockey retailer in t...</td>\n",
       "      <td>['acquire', 'agrees', 'nevada', 'retail', 'hoc...</td>\n",
       "      <td>2022-10-21 17:11:22+00:00</td>\n",
       "      <td>['Ein News']</td>\n",
       "      <td>https://www.einnews.com/pr_news/597148062/pure...</td>\n",
       "      <td>hockey</td>\n",
       "      <td>sports</td>\n",
       "    </tr>\n",
       "    <tr>\n",
       "      <th>1</th>\n",
       "      <td>'HKO Hockey Canada Sponsorship 20221006\\n\\nHoc...</td>\n",
       "      <td>'The tally of Hockey Canada’s sponsorship loss...</td>\n",
       "      <td>['sexual', 'exclusive', 'settlement', 'million...</td>\n",
       "      <td>NaN</td>\n",
       "      <td>['Barbara Shecter']</td>\n",
       "      <td>https://ca.finance.yahoo.com/news/exclusive-ho...</td>\n",
       "      <td>hockey</td>\n",
       "      <td>sports</td>\n",
       "    </tr>\n",
       "  </tbody>\n",
       "</table>\n",
       "</div>"
      ],
      "text/plain": [
       "                                           full_text   \n",
       "0  'Pure Hockey, the largest hockey retailer in t...  \\\n",
       "1  'HKO Hockey Canada Sponsorship 20221006\\n\\nHoc...   \n",
       "\n",
       "                                             summary   \n",
       "0  'Pure Hockey, the largest hockey retailer in t...  \\\n",
       "1  'The tally of Hockey Canada’s sponsorship loss...   \n",
       "\n",
       "                                            keywords   \n",
       "0  ['acquire', 'agrees', 'nevada', 'retail', 'hoc...  \\\n",
       "1  ['sexual', 'exclusive', 'settlement', 'million...   \n",
       "\n",
       "                publish_date              authors   \n",
       "0  2022-10-21 17:11:22+00:00         ['Ein News']  \\\n",
       "1                        NaN  ['Barbara Shecter']   \n",
       "\n",
       "                                                 url leaf_label root_label  \n",
       "0  https://www.einnews.com/pr_news/597148062/pure...     hockey     sports  \n",
       "1  https://ca.finance.yahoo.com/news/exclusive-ho...     hockey     sports  "
      ]
     },
     "execution_count": 19,
     "metadata": {},
     "output_type": "execute_result"
    }
   ],
   "source": [
    "df.head(2)"
   ]
  }
 ],
 "metadata": {
  "kernelspec": {
   "display_name": "Python 3",
   "language": "python",
   "name": "python3"
  },
  "language_info": {
   "codemirror_mode": {
    "name": "ipython",
    "version": 3
   },
   "file_extension": ".py",
   "mimetype": "text/x-python",
   "name": "python",
   "nbconvert_exporter": "python",
   "pygments_lexer": "ipython3",
   "version": "3.10.7"
  },
  "orig_nbformat": 4,
  "vscode": {
   "interpreter": {
    "hash": "b0fa6594d8f4cbf19f97940f81e996739fb7646882a419484c72d19e05852a7e"
   }
  }
 },
 "nbformat": 4,
 "nbformat_minor": 2
}
